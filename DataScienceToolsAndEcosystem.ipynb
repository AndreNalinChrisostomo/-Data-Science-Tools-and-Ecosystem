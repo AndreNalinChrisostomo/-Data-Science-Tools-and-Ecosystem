{
 "cells": [
  {
   "cell_type": "markdown",
   "id": "226eca1b-076e-4406-9c7c-858d3b5a8722",
   "metadata": {},
   "source": [
    "# Data Science Tools and Ecosystem"
   ]
  },
  {
   "cell_type": "markdown",
   "id": "969dcc40-faad-4e5d-b2e0-86c54c20b44e",
   "metadata": {},
   "source": [
    "In this notebook, Data Science Tools and Ecosystem are summarized."
   ]
  },
  {
   "cell_type": "markdown",
   "id": "95ff9fa6-47d1-44df-8b62-22c9296f6973",
   "metadata": {},
   "source": [
    "## Objectives\n",
    "\n",
    "This notebook will get to the following objectives: \n",
    "\n",
    "* List Data Science Languages\n",
    "* List Data Science tools\n",
    "* Show examples of Arithmetic Functions"
   ]
  },
  {
   "cell_type": "markdown",
   "id": "78ec3754-1978-402c-9496-eae8f4be8989",
   "metadata": {},
   "source": [
    "## Data Science languages"
   ]
  },
  {
   "cell_type": "markdown",
   "id": "95cdb6ec-b5df-48f7-88fc-cb594fa0272c",
   "metadata": {},
   "source": [
    "Data Science can be done with a variety of languages. The best language will depend on the type of project that you are working on.\n",
    "\n",
    "A few can be listed as: \n",
    "\n",
    "1. Python\n",
    "2. R\n",
    "3. Scala\n",
    "4. C\n",
    "5. C++\n",
    "   "
   ]
  },
  {
   "cell_type": "markdown",
   "id": "764dbcb4-3e59-43ff-ba03-e55523c9a90f",
   "metadata": {},
   "source": [
    "## Data Science libraries \n",
    "\n",
    "For each Language we can list a few libraries that will help us achieve our goal in the research.\n",
    "There are hundreds or even thousands of libraries available on the internet, but I decided to list the most popular ones that are:\n",
    "\n",
    "- NumPy – For numerical computing and array manipulation.\n",
    "- Pandas – Data manipulation and analysis.\n",
    "- Matplotlib – Plotting and data visualization.\n",
    "- Seaborn – Statistical data visualization built on Matplotlib.\n",
    "- SciPy – For scientific and technical computing.\n",
    "- Scikit-learn – Machine learning algorithms and tools.\n",
    "- TensorFlow – Deep learning framework.\n",
    "- Keras – High-level neural networks API, built on TensorFlow.\n",
    "- PyTorch – Deep learning library, popular for research.\n"
   ]
  },
  {
   "cell_type": "markdown",
   "id": "8a533f47-a180-40ab-9cf8-0dd245779d34",
   "metadata": {},
   "source": [
    "## Data Science Tools "
   ]
  },
  {
   "cell_type": "markdown",
   "id": "00c7751a-b06d-435c-95ae-dcee57b75e95",
   "metadata": {},
   "source": [
    "We can also list a few data science tools that could help us facilitate our work in different ways. Here are some of them: "
   ]
  },
  {
   "cell_type": "markdown",
   "id": "daf43905-3c1f-48e7-81ea-616dfdf7baa4",
   "metadata": {},
   "source": [
    "| **Program/Tool**   | **Category**                | **Description**                               |\n",
    "|---------------------|-----------------------------|-----------------------------------------------|\n",
    "| RStudio             | Statistical Computing       | IDE for R programming and data analysis.      |\n",
    "| Apache Spark        | Big Data Processing         | Distributed computing system for big data.    |\n",
    "| Apache Hadoop       | Big Data Framework          | Framework for distributed storage and processing of big data. |\n"
   ]
  },
  {
   "cell_type": "markdown",
   "id": "9b1837af-32ed-49e5-8a29-dc4a39a0e7c9",
   "metadata": {},
   "source": [
    "### Below are a few examples of evaluating arithmetic expressions in Python\n",
    "\n",
    "Arithmetic expressions are used to perform mathematical operations in programming. Below are some examples of common arithmetic operations:\n",
    "\n",
    "- **Addition (`+`)**: Combines two numbers.  \n",
    "  Example: `5 + 3 = 8`\n",
    "\n",
    "- **Subtraction (`-`)**: Subtracts one number from another.  \n",
    "  Example: `10 - 4 = 6`\n",
    "\n",
    "- **Multiplication (`*`)**: Multiplies two numbers.  \n",
    "  Example: `7 * 2 = 14`\n",
    "\n",
    "- **Division (`/`)**: Divides one number by another.  \n",
    "  Example: `20 / 5 = 4`\n",
    "\n",
    "- **Modulus (`%`)**: Returns the remainder of a division.  \n",
    "  Example: `10 % 3 = 1`\n",
    "\n",
    "- **Exponentiation (`**`)**: Raises a number to the power of another.  \n",
    "  Example: `2 ** 3 = 8`\n",
    "\n"
   ]
  },
  {
   "cell_type": "markdown",
   "id": "74303e32-9e97-47c8-9982-29afbdf97e92",
   "metadata": {},
   "source": [
    "### Below are a few examples of evaluating arithmetic expressions in Python"
   ]
  },
  {
   "cell_type": "markdown",
   "id": "919206b0-b3ad-4448-b358-a43254836e68",
   "metadata": {},
   "source": [
    "This a simple arithmetic expression to mutiply then add integers"
   ]
  },
  {
   "cell_type": "code",
   "execution_count": 7,
   "id": "0893bef9-ee33-47bc-810d-7b9cacf8681d",
   "metadata": {},
   "outputs": [
    {
     "data": {
      "text/plain": [
       "17"
      ]
     },
     "execution_count": 7,
     "metadata": {},
     "output_type": "execute_result"
    }
   ],
   "source": [
    "(3*4)+5"
   ]
  },
  {
   "cell_type": "markdown",
   "id": "d8b258c6-f18e-45b2-9448-a45bf349a4ce",
   "metadata": {},
   "source": [
    "This will convert 200 minutes to hours by diving by 60"
   ]
  },
  {
   "cell_type": "code",
   "execution_count": 8,
   "id": "74aadcea-a14c-4523-8808-a3d6900ba949",
   "metadata": {},
   "outputs": [
    {
     "data": {
      "text/plain": [
       "3.3333333333333335"
      ]
     },
     "execution_count": 8,
     "metadata": {},
     "output_type": "execute_result"
    }
   ],
   "source": [
    "200 / 60 "
   ]
  },
  {
   "cell_type": "markdown",
   "id": "62d21152-b87a-4f68-9872-5bb36ff0278e",
   "metadata": {},
   "source": [
    "## Listing Objectives\n",
    "Here are some personal objectives by taking this course:"
   ]
  },
  {
   "cell_type": "markdown",
   "id": "a4072d08-44bb-42b7-ac57-375e4680fbe0",
   "metadata": {},
   "source": [
    "* Become a Data Scientist\n",
    "* Help people with my abilities\n",
    "* Solve Real world problems\n",
    "* Watch the world become a better place thanks to the collaboration of specialized professionals"
   ]
  },
  {
   "cell_type": "markdown",
   "id": "ef9653de-9e51-43e9-8e0e-8d5cf3054fb5",
   "metadata": {},
   "source": [
    "## Author:\n",
    " ___André Chrisostomo___"
   ]
  },
  {
   "cell_type": "code",
   "execution_count": null,
   "id": "b2679be5-f182-4704-9c06-cd6ba84575a4",
   "metadata": {},
   "outputs": [],
   "source": []
  }
 ],
 "metadata": {
  "kernelspec": {
   "display_name": "Python 3 (ipykernel)",
   "language": "python",
   "name": "python3"
  },
  "language_info": {
   "codemirror_mode": {
    "name": "ipython",
    "version": 3
   },
   "file_extension": ".py",
   "mimetype": "text/x-python",
   "name": "python",
   "nbconvert_exporter": "python",
   "pygments_lexer": "ipython3",
   "version": "3.11.9"
  }
 },
 "nbformat": 4,
 "nbformat_minor": 5
}
